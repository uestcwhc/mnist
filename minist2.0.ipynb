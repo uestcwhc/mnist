{
 "cells": [
  {
   "cell_type": "code",
   "execution_count": 1,
   "metadata": {},
   "outputs": [
    {
     "name": "stdout",
     "output_type": "stream",
     "text": [
      "2.0.0\n"
     ]
    }
   ],
   "source": [
    "import tensorflow as tf\n",
    "import numpy as np\n",
    "import matplotlib.pyplot as plt\n",
    "\n",
    "%matplotlib inline\n",
    "\n",
    "print (tf.__version__)\n",
    "#import tensorflow.examples.tutorials.mnist.input_data as input_data\n",
    "#mnist = input_data.read_data_sets(\"MNIST_data/\",one_hot = True)"
   ]
  },
  {
   "cell_type": "code",
   "execution_count": 2,
   "metadata": {},
   "outputs": [],
   "source": [
    "mnist = tf.keras.datasets.mnist\n",
    "(train_images,train_labels),(test_images,test_labels) = mnist.load_data()"
   ]
  },
  {
   "cell_type": "code",
   "execution_count": 3,
   "metadata": {},
   "outputs": [
    {
     "name": "stdout",
     "output_type": "stream",
     "text": [
      "Training image shape: (60000, 28, 28) Train label shape (60000,)\n",
      "Test image shape (10000, 28, 28) Test label shape (10000,)\n"
     ]
    }
   ],
   "source": [
    "print(\"Training image shape:\",train_images.shape,\"Train label shape\",train_labels.shape)\n",
    "print(\"Test image shape\",test_images.shape,\"Test label shape\",test_labels.shape)"
   ]
  },
  {
   "cell_type": "markdown",
   "metadata": {},
   "source": [
    "#### 具体查看一副图像数据"
   ]
  },
  {
   "cell_type": "code",
   "execution_count": 4,
   "metadata": {},
   "outputs": [
    {
     "name": "stdout",
     "output_type": "stream",
     "text": [
      "label data 0\n"
     ]
    }
   ],
   "source": [
    "print(\"label data\",train_labels[1])   #第二幅图片的数字（0）\n",
    "#print(\"image data\",train_images[1])"
   ]
  },
  {
   "cell_type": "markdown",
   "metadata": {},
   "source": [
    "#### 定义一个可视化函数"
   ]
  },
  {
   "cell_type": "code",
   "execution_count": 5,
   "metadata": {},
   "outputs": [],
   "source": [
    "def plot_image(image):\n",
    "    plt.imshow(image.reshape(28,28),cmap='binary')\n",
    "    plt.show()"
   ]
  },
  {
   "cell_type": "code",
   "execution_count": 6,
   "metadata": {},
   "outputs": [
    {
     "data": {
      "image/png": "[encoded data removed]",
      "text/plain": [
       "<Figure size 432x288 with 1 Axes>"
      ]
     },
     "metadata": {
      "needs_background": "light"
     },
     "output_type": "display_data"
    }
   ],
   "source": [
    "plot_image(train_images[1])"
   ]
  },
  {
   "cell_type": "markdown",
   "metadata": {},
   "source": [
    "#### 划分验证集，2.0版本的mnist没划分，需要自己手动划分"
   ]
  },
  {
   "cell_type": "code",
   "execution_count": 7,
   "metadata": {},
   "outputs": [],
   "source": [
    "total_num = len(train_images)\n",
    "valid_split = 0.2\n",
    "train_num = int(total_num*(1-valid_split))  #训练集的数目\n",
    "\n",
    "train_x = train_images[:train_num]#前部分给训练集\n",
    "train_y = train_labels[:train_num]\n",
    "\n",
    "valid_x = train_images[train_num:]#后20%给验证集\n",
    "valid_y = train_labels[train_num:]\n",
    "\n",
    "test_x = test_images\n",
    "test_y = test_labels"
   ]
  },
  {
   "cell_type": "code",
   "execution_count": 8,
   "metadata": {},
   "outputs": [
    {
     "data": {
      "text/plain": [
       "(12000, 28, 28)"
      ]
     },
     "execution_count": 8,
     "metadata": {},
     "output_type": "execute_result"
    }
   ],
   "source": [
    "valid_x.shape"
   ]
  },
  {
   "cell_type": "code",
   "execution_count": 9,
   "metadata": {},
   "outputs": [
    {
     "data": {
      "text/plain": [
       "(12000,)"
      ]
     },
     "execution_count": 9,
     "metadata": {},
     "output_type": "execute_result"
    }
   ],
   "source": [
    "valid_y.shape"
   ]
  },
  {
   "cell_type": "code",
   "execution_count": 10,
   "metadata": {},
   "outputs": [],
   "source": [
    "#把28x28的结构拉直为一行784\n",
    "train_x = train_x.reshape(-1,784)\n",
    "valid_x = valid_x.reshape(-1,784)\n",
    "test_x = test_x.reshape(-1,784)"
   ]
  },
  {
   "cell_type": "markdown",
   "metadata": {},
   "source": [
    "### 特征数据归一化"
   ]
  },
  {
   "cell_type": "code",
   "execution_count": 11,
   "metadata": {},
   "outputs": [],
   "source": [
    "train_x = tf.cast(train_x/255.0, tf.float32)\n",
    "valid_x = tf.cast(valid_x/255.0, tf.float32)\n",
    "test_x = tf.cast(test_x/255.0, tf.float32)"
   ]
  },
  {
   "cell_type": "code",
   "execution_count": 12,
   "metadata": {},
   "outputs": [],
   "source": [
    "#train_x[1]"
   ]
  },
  {
   "cell_type": "markdown",
   "metadata": {},
   "source": [
    "### 独热编码"
   ]
  },
  {
   "cell_type": "code",
   "execution_count": 13,
   "metadata": {},
   "outputs": [],
   "source": [
    "#x = [3,4]#demo\n",
    "#tf.one_hot(x, depth=10) #10分类"
   ]
  },
  {
   "cell_type": "code",
   "execution_count": 14,
   "metadata": {},
   "outputs": [],
   "source": [
    "train_y = tf.one_hot(train_y, depth=10)\n",
    "valid_y = tf.one_hot(valid_y, depth=10)\n",
    "test_y = tf.one_hot(test_y, depth=10)"
   ]
  },
  {
   "cell_type": "code",
   "execution_count": 15,
   "metadata": {},
   "outputs": [
    {
     "data": {
      "text/plain": [
       "<tf.Tensor: id=10, shape=(48000, 10), dtype=float32, numpy=\n",
       "array([[0., 0., 0., ..., 0., 0., 0.],\n",
       "       [1., 0., 0., ..., 0., 0., 0.],\n",
       "       [0., 0., 0., ..., 0., 0., 0.],\n",
       "       ...,\n",
       "       [1., 0., 0., ..., 0., 0., 0.],\n",
       "       [0., 1., 0., ..., 0., 0., 0.],\n",
       "       [0., 0., 1., ..., 0., 0., 0.]], dtype=float32)>"
      ]
     },
     "execution_count": 15,
     "metadata": {},
     "output_type": "execute_result"
    }
   ],
   "source": [
    "train_y"
   ]
  },
  {
   "cell_type": "code",
   "execution_count": 16,
   "metadata": {},
   "outputs": [],
   "source": [
    "def model(x,w,b):\n",
    "    pred = tf.matmul(x,w)+b\n",
    "    return tf.nn.softmax(pred)  #激活"
   ]
  },
  {
   "cell_type": "code",
   "execution_count": 17,
   "metadata": {},
   "outputs": [],
   "source": [
    "#创建变量\n",
    "W = tf.Variable(tf.random.normal([784,10],mean=0.0, stddev=1.0, dtype=tf.float32))\n",
    "B = tf.Variable(tf.zeros([10]),dtype=tf.float32)"
   ]
  },
  {
   "cell_type": "code",
   "execution_count": 18,
   "metadata": {},
   "outputs": [],
   "source": [
    "#定义损失熵\n",
    "def loss(x,y,w,b):\n",
    "    pred = model(x,w,b)\n",
    "    loss_ = tf.keras.losses.categorical_crossentropy(y_true=y,y_pred=pred)#交叉熵损失函数\n",
    "    return tf.reduce_mean(loss_)"
   ]
  },
  {
   "cell_type": "markdown",
   "metadata": {},
   "source": [
    "## 训练模型"
   ]
  },
  {
   "cell_type": "code",
   "execution_count": 19,
   "metadata": {},
   "outputs": [],
   "source": [
    "training_epochs = 20  #训练轮数\n",
    "batch_size = 50       #单次训练样本数\n",
    "learning_rate = 0.001   #学习率"
   ]
  },
  {
   "cell_type": "markdown",
   "metadata": {},
   "source": [
    "#### 定义梯度计算函数"
   ]
  },
  {
   "cell_type": "code",
   "execution_count": 20,
   "metadata": {},
   "outputs": [],
   "source": [
    "def grad(x,y,w,b):\n",
    "    with tf.GradientTape() as tape:\n",
    "        loss_ = loss(x,y,w,b)\n",
    "    return tape.gradient(loss_, [w,b])"
   ]
  },
  {
   "cell_type": "code",
   "execution_count": 21,
   "metadata": {},
   "outputs": [],
   "source": [
    "#优化器\n",
    "optimizer = tf.keras.optimizers.Adam(learning_rate=learning_rate)"
   ]
  },
  {
   "cell_type": "code",
   "execution_count": 22,
   "metadata": {},
   "outputs": [],
   "source": [
    "def accuracy(x,y,w,b):\n",
    "    pred = model(x,w,b)\n",
    "    correct_prediction = tf.equal(tf.argmax(pred,1),tf.argmax(y,1))\n",
    "    return tf.reduce_mean(tf.cast(correct_prediction, tf.float32))"
   ]
  },
  {
   "cell_type": "markdown",
   "metadata": {},
   "source": [
    "## 模型训练"
   ]
  },
  {
   "cell_type": "code",
   "execution_count": null,
   "metadata": {},
   "outputs": [
    {
     "name": "stdout",
     "output_type": "stream",
     "text": [
      "epoch=  1,train_loss=1.5711,train_acc=0.7037,val_loss=1.4717,val_acc=0.7205\n",
      "epoch=  2,train_loss=0.9912,train_acc=0.7987,val_loss=0.9265,val_acc=0.8092\n",
      "epoch=  3,train_loss=0.7863,train_acc=0.8355,val_loss=0.7388,val_acc=0.8446\n",
      "epoch=  4,train_loss=0.6748,train_acc=0.8551,val_loss=0.6395,val_acc=0.8629\n",
      "epoch=  5,train_loss=0.6023,train_acc=0.8669,val_loss=0.5774,val_acc=0.8763\n",
      "epoch=  6,train_loss=0.5509,train_acc=0.8760,val_loss=0.5349,val_acc=0.8837\n",
      "epoch=  7,train_loss=0.5120,train_acc=0.8824,val_loss=0.5037,val_acc=0.8892\n",
      "epoch=  8,train_loss=0.4819,train_acc=0.8872,val_loss=0.4800,val_acc=0.8932\n",
      "epoch=  9,train_loss=0.4575,train_acc=0.8918,val_loss=0.4611,val_acc=0.8968\n",
      "epoch= 10,train_loss=0.4374,train_acc=0.8951,val_loss=0.4457,val_acc=0.8991\n",
      "epoch= 11,train_loss=0.4204,train_acc=0.8980,val_loss=0.4329,val_acc=0.9008\n",
      "epoch= 12,train_loss=0.4059,train_acc=0.9005,val_loss=0.4221,val_acc=0.9024\n",
      "epoch= 13,train_loss=0.3932,train_acc=0.9029,val_loss=0.4127,val_acc=0.9044\n",
      "epoch= 14,train_loss=0.3819,train_acc=0.9053,val_loss=0.4042,val_acc=0.9047\n",
      "epoch= 15,train_loss=0.3720,train_acc=0.9070,val_loss=0.3967,val_acc=0.9059\n",
      "epoch= 16,train_loss=0.3631,train_acc=0.9086,val_loss=0.3901,val_acc=0.9070\n",
      "epoch= 17,train_loss=0.3551,train_acc=0.9100,val_loss=0.3840,val_acc=0.9080\n",
      "epoch= 18,train_loss=0.3478,train_acc=0.9115,val_loss=0.3785,val_acc=0.9090\n"
     ]
    }
   ],
   "source": [
    "total_step = int(train_num/batch_size) #一轮训练有多少批次\n",
    "\n",
    "loss_list_train = [] #保存训练集loss值列表\n",
    "loss_list_valid = [] #保存验证集loss值列表\n",
    "acc_list_train = [] #保存训练集acc值的列表\n",
    "acc_list_valid = []  #保存验证集acc值的列表\n",
    "\n",
    "for epoch in range (training_epochs):\n",
    "    for step in range(total_step):\n",
    "        xs = train_x[step*batch_size:(step+1)*batch_size]  #取出当前批次的数据\n",
    "        ys = train_y[step*batch_size:(step+1)*batch_size]\n",
    "        \n",
    "        grads = grad(xs, ys, W, B)#计算梯度\n",
    "        optimizer.apply_gradients(zip(grads, [W,B]))#优化器根据梯度自动调整W和B\n",
    "        \n",
    "    loss_train = loss(train_x, train_y, W, B).numpy()\n",
    "    loss_valid = loss(valid_x, valid_y, W, B).numpy()\n",
    "    acc_train = accuracy(train_x, train_y, W, B).numpy()\n",
    "    acc_valid = accuracy(valid_x, valid_y, W, B).numpy()\n",
    "    loss_list_train.append(loss_train)\n",
    "    loss_list_valid.append(loss_valid)\n",
    "    acc_list_train.append(acc_train)\n",
    "    acc_list_valid.append(acc_valid)\n",
    "    print(\"epoch={:3d},train_loss={:.4f},train_acc={:.4f},val_loss={:.4f},val_acc={:.4f}\".format(\n",
    "        epoch+1, loss_train,acc_train,loss_valid,acc_valid))\n",
    "    "
   ]
  },
  {
   "cell_type": "markdown",
   "metadata": {},
   "source": [
    "### 显示训练过程数据"
   ]
  },
  {
   "cell_type": "code",
   "execution_count": null,
   "metadata": {},
   "outputs": [],
   "source": [
    "plt.xlabel(\"Epochs\")\n",
    "plt.ylabel(\"Loss\")\n",
    "plt.plot(loss_list_train,\"blue\",label=\"Train Loss\")\n",
    "plt.plot(loss_list_valid,'red',label=\"Valid Loss\")\n",
    "plt.legend(loc=1) #通过参数loc指定图例位置"
   ]
  },
  {
   "cell_type": "code",
   "execution_count": null,
   "metadata": {},
   "outputs": [],
   "source": [
    "plt.xlabel(\"Epochs\")\n",
    "plt.ylabel(\"Accuracy\")\n",
    "plt.plot(acc_list_train,'blue',label=\"Train Acc\")\n",
    "plt.plot(acc_list_valid,'red',label=\"Valid Acc\")\n",
    "plt.legend(loc=1)"
   ]
  },
  {
   "cell_type": "markdown",
   "metadata": {},
   "source": [
    "## 评估模型"
   ]
  },
  {
   "cell_type": "code",
   "execution_count": null,
   "metadata": {},
   "outputs": [],
   "source": [
    "acc_test = accuracy(test_x, test_y, W, B).numpy()\n",
    "print(\"Test accuracy:\",acc_test)"
   ]
  },
  {
   "cell_type": "markdown",
   "metadata": {},
   "source": [
    "## 应用模型预测"
   ]
  },
  {
   "cell_type": "code",
   "execution_count": null,
   "metadata": {},
   "outputs": [],
   "source": [
    "#预测函数\n",
    "def predict(x, w, b):\n",
    "    pred = model(x, w, b)#计算模型预测值\n",
    "    result = tf.argmax(pred, 1).numpy()\n",
    "    return result"
   ]
  },
  {
   "cell_type": "code",
   "execution_count": null,
   "metadata": {},
   "outputs": [],
   "source": [
    "pred_test = predict(test_x, W, B)"
   ]
  },
  {
   "cell_type": "code",
   "execution_count": null,
   "metadata": {},
   "outputs": [],
   "source": [
    "pred_test[1]"
   ]
  }
 ],
 "metadata": {
  "kernelspec": {
   "display_name": "Python 3",
   "language": "python",
   "name": "python3"
  },
  "language_info": {
   "codemirror_mode": {
    "name": "ipython",
    "version": 3
   },
   "file_extension": ".py",
   "mimetype": "text/x-python",
   "name": "python",
   "nbconvert_exporter": "python",
   "pygments_lexer": "ipython3",
   "version": "3.6.10"
  }
 },
 "nbformat": 4,
 "nbformat_minor": 4
}
